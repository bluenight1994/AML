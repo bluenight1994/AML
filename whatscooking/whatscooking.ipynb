{
 "cells": [
  {
   "cell_type": "code",
   "execution_count": 12,
   "metadata": {
    "collapsed": true
   },
   "outputs": [],
   "source": [
    "import json\n",
    "import os\n",
    "import numpy as np"
   ]
  },
  {
   "cell_type": "code",
   "execution_count": 29,
   "metadata": {
    "collapsed": true
   },
   "outputs": [],
   "source": [
    "os.chdir('/Users/GanHong/Desktop/AML/ML_HW2/cooking')\n",
    "train = json.loads(open('train.json').read())\n",
    "test = json.loads(open('test.json').read())"
   ]
  },
  {
   "cell_type": "code",
   "execution_count": 30,
   "metadata": {
    "collapsed": false
   },
   "outputs": [],
   "source": [
    "cat = set()\n",
    "lbl = set()\n",
    "\n",
    "for k in train:\n",
    "    ing = k['ingredients']\n",
    "    for u in ing:\n",
    "        cat.add(u)\n",
    "    lbl.add(k['cuisine'])\n",
    "\n",
    "for k in test:\n",
    "    ing = k['ingredients']\n",
    "    for u in ing:\n",
    "        cat.add(u)\n",
    "    \n",
    "num_of_ingredients = len(cat)\n",
    "num_of_cuisine = len(lbl)\n",
    "\n",
    "cat_map = {}\n",
    "for i,t in enumerate(list(cat)):\n",
    "    cat_map[t] = i\n",
    "\n",
    "lbl_map = {}\n",
    "for i,t in enumerate(list(lbl)):\n",
    "    lbl_map[t] = i"
   ]
  },
  {
   "cell_type": "code",
   "execution_count": 31,
   "metadata": {
    "collapsed": false
   },
   "outputs": [
    {
     "data": {
      "text/plain": [
       "((39774, 7137), (39774,))"
      ]
     },
     "execution_count": 31,
     "metadata": {},
     "output_type": "execute_result"
    }
   ],
   "source": [
    "train_data = []\n",
    "train_label = []\n",
    "for k in train:\n",
    "    ing = k['ingredients']\n",
    "    features = [0]*num_of_ingredients\n",
    "    for u in ing:\n",
    "        features[cat_map[u]] = 1\n",
    "    train_data.append(features)\n",
    "    train_label.append(lbl_map[k['cuisine']])\n",
    "\n",
    "\n",
    "train_data, train_label = np.array(train_data), np.array(train_label)\n",
    "train_data.shape, train_label.shape"
   ]
  },
  {
   "cell_type": "code",
   "execution_count": 32,
   "metadata": {
    "collapsed": true
   },
   "outputs": [],
   "source": [
    "test_data = []\n",
    "for k in test:\n",
    "    ing = k['ingredients']\n",
    "    features = [0]*num_of_ingredients\n",
    "    for u in ing:\n",
    "        features[cat_map[u]] = 1\n",
    "    test_data.append(features)\n",
    "test_data = np.array(test_data)"
   ]
  },
  {
   "cell_type": "code",
   "execution_count": null,
   "metadata": {
    "collapsed": false
   },
   "outputs": [],
   "source": [
    "from sklearn import cross_validation\n",
    "from sklearn.naive_bayes import MultinomialNB\n",
    "gnb = MultinomialNB()\n",
    "all_folds = cross_validation.KFold(len(train_data), n_folds = 10)\n",
    "for train, test in all_folds:\n",
    "    gnb.fit(train_data[train],train_label[train])\n",
    "    print(gnb.score(train_data[test],train_label[test]))\n",
    "    "
   ]
  },
  {
   "cell_type": "code",
   "execution_count": 34,
   "metadata": {
    "collapsed": false
   },
   "outputs": [
    {
     "data": {
      "text/plain": [
       "array([13, 13,  4, ...,  4, 13, 11])"
      ]
     },
     "execution_count": 34,
     "metadata": {},
     "output_type": "execute_result"
    }
   ],
   "source": [
    "gnb.fit(train_data, train_label)\n",
    "gnb.predict(test_data)"
   ]
  },
  {
   "cell_type": "code",
   "execution_count": null,
   "metadata": {
    "collapsed": true
   },
   "outputs": [],
   "source": []
  }
 ],
 "metadata": {
  "kernelspec": {
   "display_name": "Python [Root]",
   "language": "python",
   "name": "Python [Root]"
  },
  "language_info": {
   "codemirror_mode": {
    "name": "ipython",
    "version": 3
   },
   "file_extension": ".py",
   "mimetype": "text/x-python",
   "name": "python",
   "nbconvert_exporter": "python",
   "pygments_lexer": "ipython3",
   "version": "3.5.2"
  }
 },
 "nbformat": 4,
 "nbformat_minor": 0
}
