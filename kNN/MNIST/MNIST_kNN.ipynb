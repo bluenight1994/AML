{
 "cells": [
  {
   "cell_type": "code",
   "execution_count": 4,
   "metadata": {
    "collapsed": true
   },
   "outputs": [],
   "source": [
    "%matplotlib inline\n",
    "\n",
    "from sklearn import \\\n",
    "    datasets, \\\n",
    "    cross_validation, \\\n",
    "    preprocessing"
   ]
  },
  {
   "cell_type": "code",
   "execution_count": 7,
   "metadata": {
    "collapsed": true
   },
   "outputs": [],
   "source": [
    "import os\n",
    "os.chdir(\"/Users/GanHong/Desktop/ML_HW1/MNIST\")\n",
    "from numpy import *"
   ]
  },
  {
   "cell_type": "code",
   "execution_count": 8,
   "metadata": {
    "collapsed": false
   },
   "outputs": [],
   "source": [
    "my_data = genfromtxt(\"train.csv\", delimiter=\",\", dtype=int)"
   ]
  },
  {
   "cell_type": "code",
   "execution_count": 9,
   "metadata": {
    "collapsed": false
   },
   "outputs": [],
   "source": [
    "my_data = my_data[1:]"
   ]
  },
  {
   "cell_type": "code",
   "execution_count": 10,
   "metadata": {
    "collapsed": false
   },
   "outputs": [],
   "source": [
    "vector = array([line[1:] for line in my_data])\n",
    "label = array([line[0] for line in my_data])"
   ]
  },
  {
   "cell_type": "code",
   "execution_count": 12,
   "metadata": {
    "collapsed": false
   },
   "outputs": [
    {
     "name": "stdout",
     "output_type": "stream",
     "text": [
      "Populating the interactive namespace from numpy and matplotlib\n"
     ]
    },
    {
     "data": {
      "text/plain": [
       "<matplotlib.image.AxesImage at 0x12fca99e8>"
      ]
     },
     "execution_count": 12,
     "metadata": {},
     "output_type": "execute_result"
    },
    {
     "data": {
      "image/png": "[encoded data removed]",
      "text/plain": [
       "<matplotlib.figure.Figure at 0x10c978780>"
      ]
     },
     "metadata": {},
     "output_type": "display_data"
    },
    {
     "data": {
      "image/png": "[encoded data removed]",
      "text/plain": [
       "<matplotlib.figure.Figure at 0x16ae39208>"
      ]
     },
     "metadata": {},
     "output_type": "display_data"
    },
    {
     "data": {
      "image/png": "[encoded data removed]",
      "text/plain": [
       "<matplotlib.figure.Figure at 0x12f2aaac8>"
      ]
     },
     "metadata": {},
     "output_type": "display_data"
    },
    {
     "data": {
      "image/png": "[encoded data removed]",
      "text/plain": [
       "<matplotlib.figure.Figure at 0x12f88ef28>"
      ]
     },
     "metadata": {},
     "output_type": "display_data"
    }
   ],
   "source": [
    "%pylab inline\n",
    "[1,0,16,7,3,8,21,6,10,11]\n",
    "fig, (ax1,ax2,ax3) = subplots(1,3)\n",
    "ax1.matshow(vector[1].reshape(28,28), cmap='gray')\n",
    "ax2.matshow(vector[0].reshape(28,28), cmap='gray')\n",
    "ax3.matshow(vector[16].reshape(28,28), cmap='gray')\n",
    "fig, (ax1,ax2,ax3) = subplots(1,3)\n",
    "ax1.matshow(vector[7].reshape(28,28), cmap='gray')\n",
    "ax2.matshow(vector[3].reshape(28,28), cmap='gray')\n",
    "ax3.matshow(vector[8].reshape(28,28), cmap='gray')\n",
    "fig, (ax1,ax2,ax3) = subplots(1,3)\n",
    "ax1.matshow(vector[21].reshape(28,28), cmap='gray')\n",
    "ax2.matshow(vector[6].reshape(28,28), cmap='gray')\n",
    "ax3.matshow(vector[10].reshape(28,28), cmap='gray')\n",
    "matshow(vector[11].reshape(28,28), cmap='gray')\n"
   ]
  },
  {
   "cell_type": "code",
   "execution_count": 13,
   "metadata": {
    "collapsed": false
   },
   "outputs": [
    {
     "name": "stdout",
     "output_type": "stream",
     "text": [
      "defaultdict(<class 'float'>, {0: 0.09838095238095237, 1: 0.11152380952380953, 2: 0.09945238095238096, 3: 0.1035952380952381, 4: 0.09695238095238096, 5: 0.09035714285714286, 6: 0.0985, 7: 0.10478571428571429, 8: 0.09673809523809523, 9: 0.09971428571428571})\n"
     ]
    }
   ],
   "source": [
    "from collections import *\n",
    "dd = defaultdict(float)\n",
    "for lbl in label:\n",
    "    dd[lbl] += 1.0\n",
    "cnt = len(label)\n",
    "for t in dd:\n",
    "    dd[t] /= cnt\n",
    "print (dd)"
   ]
  },
  {
   "cell_type": "code",
   "execution_count": 14,
   "metadata": {
    "collapsed": false
   },
   "outputs": [
    {
     "data": {
      "text/plain": [
       "(array([ 0.10931217,  0.12391534,  0.11050265,  0.11510582,  0.10772487,\n",
       "         0.10039683,  0.10944444,  0.11642857,  0.10748677,  0.11079365]),\n",
       " array([ 0. ,  0.9,  1.8,  2.7,  3.6,  4.5,  5.4,  6.3,  7.2,  8.1,  9. ]),\n",
       " <a list of 10 Patch objects>)"
      ]
     },
     "execution_count": 14,
     "metadata": {},
     "output_type": "execute_result"
    },
    {
     "data": {
      "image/png": "[encoded data removed]",
      "text/plain": [
       "<matplotlib.figure.Figure at 0x10ecd5b00>"
      ]
     },
     "metadata": {},
     "output_type": "display_data"
    }
   ],
   "source": [
    "hist(label, bins = 10,normed = True)"
   ]
  },
  {
   "cell_type": "code",
   "execution_count": 15,
   "metadata": {
    "collapsed": false
   },
   "outputs": [
    {
     "data": {
      "image/png": "[encoded data removed]",
      "text/plain": [
       "<matplotlib.figure.Figure at 0x10ecd5b70>"
      ]
     },
     "metadata": {},
     "output_type": "display_data"
    },
    {
     "data": {
      "image/png": "[encoded data removed]",
      "text/plain": [
       "<matplotlib.figure.Figure at 0x1129f0a58>"
      ]
     },
     "metadata": {},
     "output_type": "display_data"
    },
    {
     "data": {
      "image/png": "[encoded data removed]",
      "text/plain": [
       "<matplotlib.figure.Figure at 0x112aea5c0>"
      ]
     },
     "metadata": {},
     "output_type": "display_data"
    },
    {
     "data": {
      "image/png": "[encoded data removed]",
      "text/plain": [
       "<matplotlib.figure.Figure at 0x112b785c0>"
      ]
     },
     "metadata": {},
     "output_type": "display_data"
    },
    {
     "data": {
      "image/png": "[encoded data removed]",
      "text/plain": [
       "<matplotlib.figure.Figure at 0x112d288d0>"
      ]
     },
     "metadata": {},
     "output_type": "display_data"
    },
    {
     "data": {
      "image/png": "[encoded data removed]",
      "text/plain": [
       "<matplotlib.figure.Figure at 0x112dbac18>"
      ]
     },
     "metadata": {},
     "output_type": "display_data"
    },
    {
     "data": {
      "image/png": "[encoded data removed]",
      "text/plain": [
       "<matplotlib.figure.Figure at 0x112e44390>"
      ]
     },
     "metadata": {},
     "output_type": "display_data"
    },
    {
     "data": {
      "image/png": "[encoded data removed]",
      "text/plain": [
       "<matplotlib.figure.Figure at 0x112e55e48>"
      ]
     },
     "metadata": {},
     "output_type": "display_data"
    },
    {
     "data": {
      "image/png": "[encoded data removed]",
      "text/plain": [
       "<matplotlib.figure.Figure at 0x12f70c7b8>"
      ]
     },
     "metadata": {},
     "output_type": "display_data"
    },
    {
     "data": {
      "image/png": "[encoded data removed]",
      "text/plain": [
       "<matplotlib.figure.Figure at 0x12fe42c50>"
      ]
     },
     "metadata": {},
     "output_type": "display_data"
    }
   ],
   "source": [
    "chosen = [1,0,16,7,3,8,21,6,10,11]\n",
    "\n",
    "def computeDistance(a, b):\n",
    "    dis = 0\n",
    "    for u,v in zip(a,b):\n",
    "        dis += (u-v)**2\n",
    "    return dis**0.5\n",
    "\n",
    "def match(t):\n",
    "    min, id = 2**31, None\n",
    "    for i in range(len(vector)):\n",
    "        if i == t: continue\n",
    "        dis = computeDistance(vector[t], vector[i])\n",
    "        if dis < min:\n",
    "            min = dis\n",
    "            id = i\n",
    "    return id\n",
    "\n",
    "for t in chosen:\n",
    "    neigh = match(t)\n",
    "    fig, (ax1,ax2) = subplots(1,2)\n",
    "    ax1.matshow(vector[t].reshape(28,28), cmap='gray')\n",
    "    ax2.matshow(vector[neigh].reshape(28,28), cmap='gray')"
   ]
  },
  {
   "cell_type": "code",
   "execution_count": 94,
   "metadata": {
    "collapsed": false
   },
   "outputs": [
    {
     "data": {
      "text/plain": [
       "(array([  2.84049139e-09,   1.42024569e-09,   2.84049139e-09,\n",
       "          2.84049139e-09,   9.94171985e-09,   1.98834397e-08,\n",
       "          3.55061423e-08,   7.10122847e-08,   9.65767072e-08,\n",
       "          2.15877345e-07,   3.56481669e-07,   6.36270071e-07,\n",
       "          9.41622895e-07,   1.31088678e-06,   1.85484088e-06,\n",
       "          2.82770918e-06,   3.88721246e-06,   6.27322523e-06,\n",
       "          9.61648359e-06,   1.49097393e-05,   2.19825628e-05,\n",
       "          3.12155801e-05,   4.28161469e-05,   5.77116838e-05,\n",
       "          7.78862738e-05,   1.03239080e-04,   1.33207684e-04,\n",
       "          1.70864078e-04,   2.15045081e-04,   2.66805936e-04,\n",
       "          3.29327992e-04,   4.00209614e-04,   4.78499237e-04,\n",
       "          5.62939945e-04,   6.56343823e-04,   7.61782864e-04,\n",
       "          8.67342625e-04,   9.66587974e-04,   1.06970349e-03,\n",
       "          1.17634690e-03,   1.27307983e-03,   1.33631201e-03,\n",
       "          1.36629624e-03,   1.35976595e-03,   1.34526098e-03,\n",
       "          1.32303414e-03,   1.28774245e-03,   1.24207729e-03,\n",
       "          1.17740214e-03,   1.09257797e-03,   1.00724109e-03,\n",
       "          9.01547822e-04,   7.90525796e-04,   6.92456411e-04,\n",
       "          5.86332812e-04,   4.89679411e-04,   4.03095553e-04,\n",
       "          3.29822237e-04,   2.64943994e-04,   1.99621213e-04,\n",
       "          1.48299215e-04,   1.15518524e-04,   8.79572360e-05,\n",
       "          6.58979799e-05,   5.11302652e-05,   3.54493325e-05,\n",
       "          2.47335788e-05,   2.01106790e-05,   1.15082509e-05,\n",
       "          1.03606923e-05,   7.17366100e-06,   3.14584421e-06,\n",
       "          1.38189906e-06,   9.94171985e-07,   8.50727170e-07,\n",
       "          7.81135131e-07,   4.61579850e-07,   2.21558328e-07,\n",
       "          9.51564615e-08,   2.55644225e-08]),\n",
       " array([ 1291.70817138,  1328.08788865,  1364.46760593,  1400.84732321,\n",
       "         1437.22704049,  1473.60675777,  1509.98647504,  1546.36619232,\n",
       "         1582.7459096 ,  1619.12562688,  1655.50534416,  1691.88506144,\n",
       "         1728.26477871,  1764.64449599,  1801.02421327,  1837.40393055,\n",
       "         1873.78364783,  1910.1633651 ,  1946.54308238,  1982.92279966,\n",
       "         2019.30251694,  2055.68223422,  2092.0619515 ,  2128.44166877,\n",
       "         2164.82138605,  2201.20110333,  2237.58082061,  2273.96053789,\n",
       "         2310.34025516,  2346.71997244,  2383.09968972,  2419.479407  ,\n",
       "         2455.85912428,  2492.23884155,  2528.61855883,  2564.99827611,\n",
       "         2601.37799339,  2637.75771067,  2674.13742795,  2710.51714522,\n",
       "         2746.8968625 ,  2783.27657978,  2819.65629706,  2856.03601434,\n",
       "         2892.41573161,  2928.79544889,  2965.17516617,  3001.55488345,\n",
       "         3037.93460073,  3074.314318  ,  3110.69403528,  3147.07375256,\n",
       "         3183.45346984,  3219.83318712,  3256.2129044 ,  3292.59262167,\n",
       "         3328.97233895,  3365.35205623,  3401.73177351,  3438.11149079,\n",
       "         3474.49120806,  3510.87092534,  3547.25064262,  3583.6303599 ,\n",
       "         3620.01007718,  3656.38979445,  3692.76951173,  3729.14922901,\n",
       "         3765.52894629,  3801.90866357,  3838.28838085,  3874.66809812,\n",
       "         3911.0478154 ,  3947.42753268,  3983.80724996,  4020.18696724,\n",
       "         4056.56668451,  4092.94640179,  4129.32611907,  4165.70583635,\n",
       "         4202.08555363]),\n",
       " <a list of 80 Patch objects>)"
      ]
     },
     "execution_count": 94,
     "metadata": {},
     "output_type": "execute_result"
    },
    {
     "data": {
      "image/png": "[encoded data removed]",
      "text/plain": [
       "<matplotlib.figure.Figure at 0x1168888d0>"
      ]
     },
     "metadata": {},
     "output_type": "display_data"
    }
   ],
   "source": [
    "one = []\n",
    "for i,lb in enumerate(label):\n",
    "    if lb == 1: one.append(vector[i])\n",
    "zero = []\n",
    "for i,lb in enumerate(label):\n",
    "    if lb == 0: zero.append(vector[i])\n",
    "# \n",
    "from sklearn.metrics.pairwise import euclidean_distances\n",
    "dis0to0 = euclidean_distances(zero, zero)\n",
    "dis0to0.flatten()\n",
    "dis1to1 = euclidean_distances(one, one)\n",
    "dis1to1.flatten()\n",
    "genuine = np.append(dis0to0, dis1to1)\n",
    "hist(genuine, bins = 80, normed = True)\n",
    "dis1to0 = euclidean_distances(one, zero)\n",
    "imposter = dis1to0.flatten()\n",
    "hist(imposter, bins = 80, normed = True)"
   ]
  },
  {
   "cell_type": "code",
   "execution_count": 112,
   "metadata": {
    "collapsed": false
   },
   "outputs": [
    {
     "name": "stdout",
     "output_type": "stream",
     "text": [
      "1500\n",
      "1520\n",
      "1540\n",
      "1560\n",
      "1580\n",
      "1600\n",
      "1620\n",
      "1640\n",
      "1660\n",
      "1680\n",
      "1700\n",
      "1720\n",
      "1740\n",
      "1760\n",
      "1780\n",
      "1800\n",
      "1820\n",
      "1840\n",
      "1860\n",
      "1880\n",
      "1900\n",
      "1920\n",
      "1940\n",
      "1960\n",
      "1980\n",
      "2000\n",
      "2020\n",
      "2040\n",
      "2060\n",
      "2080\n",
      "2100\n",
      "2120\n",
      "2140\n",
      "2160\n",
      "2180\n",
      "2200\n",
      "2220\n",
      "2240\n",
      "2260\n",
      "2280\n",
      "2300\n",
      "2320\n",
      "2340\n",
      "2360\n",
      "2380\n",
      "2400\n",
      "2420\n",
      "2440\n",
      "2460\n",
      "2480\n",
      "2500\n",
      "2520\n",
      "2540\n",
      "2560\n",
      "2580\n",
      "2600\n",
      "2620\n",
      "2640\n",
      "2660\n",
      "2680\n",
      "2700\n",
      "2720\n",
      "2740\n",
      "2760\n",
      "2780\n",
      "2800\n",
      "2820\n",
      "2840\n",
      "2860\n",
      "2880\n",
      "2900\n",
      "2920\n",
      "2940\n",
      "2960\n",
      "2980\n",
      "3000\n",
      "3020\n",
      "3040\n",
      "3060\n",
      "3080\n",
      "3100\n",
      "3120\n",
      "3140\n",
      "3160\n",
      "3180\n",
      "3200\n",
      "3220\n",
      "3240\n",
      "3260\n",
      "3280\n",
      "3300\n",
      "3320\n",
      "3340\n",
      "3360\n",
      "3380\n",
      "3400\n",
      "3420\n",
      "3440\n",
      "3460\n",
      "3480\n",
      "3500\n",
      "3520\n",
      "3540\n",
      "3560\n",
      "3580\n",
      "3600\n",
      "3620\n",
      "3640\n",
      "3660\n",
      "3680\n",
      "3700\n",
      "3720\n",
      "3740\n",
      "3760\n",
      "3780\n",
      "3800\n",
      "3820\n",
      "3840\n",
      "3860\n",
      "3880\n",
      "3900\n",
      "3920\n",
      "3940\n",
      "3960\n",
      "3980\n",
      "4000\n",
      "4020\n",
      "4040\n",
      "4060\n",
      "4080\n",
      "4100\n",
      "4120\n",
      "4140\n",
      "4160\n",
      "4180\n",
      "4200\n",
      "4220\n",
      "4240\n",
      "4260\n",
      "4280\n",
      "4300\n",
      "4320\n",
      "4340\n",
      "4360\n",
      "4380\n",
      "4400\n",
      "4420\n",
      "4440\n",
      "4460\n",
      "4480\n"
     ]
    }
   ],
   "source": [
    "# imposter, genuine\n",
    "x, y = [], []\n",
    "for i in range(1500, 4500, 20):\n",
    "#     print(i)\n",
    "    cnt1 = (genuine<i).sum()\n",
    "    cnt2 = (imposter<i).sum()\n",
    "    x.append(float(cnt1)/len(genuine))\n",
    "    y.append(float(cnt2)/len(imposter))"
   ]
  },
  {
   "cell_type": "code",
   "execution_count": 115,
   "metadata": {
    "collapsed": false
   },
   "outputs": [
    {
     "data": {
      "text/plain": [
       "[<matplotlib.lines.Line2D at 0x11820c978>]"
      ]
     },
     "execution_count": 115,
     "metadata": {},
     "output_type": "execute_result"
    },
    {
     "data": {
      "image/png": "[encoded data removed]",
      "text/plain": [
       "<matplotlib.figure.Figure at 0x11818ae80>"
      ]
     },
     "metadata": {},
     "output_type": "display_data"
    }
   ],
   "source": [
    "from matplotlib import pyplot as plt\n",
    "plt.xlabel(\"FPR\")\n",
    "plt.ylabel(\"TPR\")\n",
    "plt.plot(y,x)\n"
   ]
  },
  {
   "cell_type": "code",
   "execution_count": 53,
   "metadata": {
    "collapsed": false
   },
   "outputs": [
    {
     "name": "stdout",
     "output_type": "stream",
     "text": [
      "924/1000\n",
      "[[106   0   0   0   0   0   1   0   0   0]\n",
      " [  0  94   1   0   0   0   0   0   1   0]\n",
      " [  1   6 109   1   0   0   0   4   3   0]\n",
      " [  0   0   0  88   1   0   0   1   0   0]\n",
      " [  0   1   0   0  91   0   0   1   0   9]\n",
      " [  1   1   0   2   0  80   2   0   1   2]\n",
      " [  2   1   0   0   1   0  93   0   0   0]\n",
      " [  0   5   0   0   0   0   0  98   0   2]\n",
      " [  1   5   0   3   1   2   1   0  77   3]\n",
      " [  2   1   1   1   0   0   0   4   0  88]]\n"
     ]
    }
   ],
   "source": [
    "from collections import *\n",
    "from sklearn.metrics import confusion_matrix\n",
    "\n",
    "# self implemented kNN algoithms\n",
    "def kNN(v, data, label, k):\n",
    "    size = data.shape[0]\n",
    "    diff = tile(v, (size, 1)) - data\n",
    "    diff = diff ** 2\n",
    "    sumdiff = diff.sum(axis = 1)\n",
    "    dis = sumdiff**0.5\n",
    "    sortedID = dis.argsort()\n",
    "    cnt = defaultdict(int)\n",
    "    for i in range(k):\n",
    "        res = label[sortedID[i]]\n",
    "        cnt[res] += 1\n",
    "    od = sorted(cnt.items(), key=lambda t: t[1], reverse=True)\n",
    "    return od[0][0]\n",
    "\n",
    "cnt = 0\n",
    "y = label[:1000]\n",
    "pred = []\n",
    "cnt = 0\n",
    "for i in range(1000):\n",
    "    id = kNN(vector[i], vector[1000:6000], label[1000:6000], 10)\n",
    "    pred.append(id)\n",
    "    if y[i] == id:\n",
    "        cnt += 1\n",
    "pred = array(pred)\n",
    "print(str(cnt)+\"/1000\")\n",
    "print(confusion_matrix(y, pred))"
   ]
  },
  {
   "cell_type": "code",
   "execution_count": 13,
   "metadata": {
    "collapsed": false,
    "scrolled": true
   },
   "outputs": [],
   "source": [
    "# self implement turned out to be quite slow, so i use sklearn's kNN to do cross validation.\n",
    "from sklearn.neighbors import KNeighborsClassifier\n",
    "def crossValidation():\n",
    "    neigh = KNeighborsClassifier(n_neighbors=3)\n",
    "    all_folds = cross_validation.KFold(len(vector), n_folds = 3)\n",
    "    loop = 1\n",
    "    for train, test in all_folds:\n",
    "        test_attri = vector[test]\n",
    "        test_lbl = label[test]\n",
    "        neigh.fit(vector[train],label[train])\n",
    "        print(neigh.score(test_attri, test_lbl))\n",
    "crossValidation()"
   ]
  },
  {
   "cell_type": "code",
   "execution_count": 41,
   "metadata": {
    "collapsed": false
   },
   "outputs": [],
   "source": [
    "test = genfromtxt(\"test.csv\", delimiter=\",\", dtype=int)"
   ]
  },
  {
   "cell_type": "code",
   "execution_count": 44,
   "metadata": {
    "collapsed": false
   },
   "outputs": [],
   "source": [
    "from sklearn.metrics import confusion_matrix\n",
    "from sklearn.neighbors import KNeighborsClassifier\n",
    "import numpy as np\n",
    "\n",
    "neigh = KNeighborsClassifier(n_neighbors=3)\n",
    "neigh.fit(vector,label)\n",
    "y_pred = neigh.predict(test)\n",
    "# print (np.mean(y_pred == test_y))\n",
    "# print(\"The confusion matrix:\")\n",
    "# print(confusion_matrix(test_y, y_pred))"
   ]
  },
  {
   "cell_type": "code",
   "execution_count": 45,
   "metadata": {
    "collapsed": false
   },
   "outputs": [],
   "source": [
    "#res = array([(a,b) for a,b in zip(test_y, y_pred)])"
   ]
  },
  {
   "cell_type": "code",
   "execution_count": 46,
   "metadata": {
    "collapsed": true
   },
   "outputs": [],
   "source": [
    "numpy.savetxt(\"submission.csv\", y_pred, delimiter=\",\", fmt=\"%d\")\n",
    "# the final accuracy is 96.86% with k = 3"
   ]
  }
 ],
 "metadata": {
  "anaconda-cloud": {},
  "kernelspec": {
   "display_name": "Python [Root]",
   "language": "python",
   "name": "Python [Root]"
  },
  "language_info": {
   "codemirror_mode": {
    "name": "ipython",
    "version": 3
   },
   "file_extension": ".py",
   "mimetype": "text/x-python",
   "name": "python",
   "nbconvert_exporter": "python",
   "pygments_lexer": "ipython3",
   "version": "3.5.2"
  }
 },
 "nbformat": 4,
 "nbformat_minor": 0
}
