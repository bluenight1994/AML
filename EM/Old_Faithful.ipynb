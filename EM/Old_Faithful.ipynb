{
 "cells": [
  {
   "cell_type": "code",
   "execution_count": 54,
   "metadata": {
    "collapsed": true
   },
   "outputs": [],
   "source": [
    "%matplotlib inline\n",
    "import numpy as np\n",
    "import matplotlib.pyplot as plt\n",
    "from scipy.stats import multivariate_normal"
   ]
  },
  {
   "cell_type": "code",
   "execution_count": 55,
   "metadata": {
    "collapsed": false
   },
   "outputs": [
    {
     "data": {
      "text/plain": [
       "<matplotlib.collections.PathCollection at 0x1118923d0>"
      ]
     },
     "execution_count": 55,
     "metadata": {},
     "output_type": "execute_result"
    },
    {
     "data": {
      "image/png": "[encoded data removed]",
      "text/plain": [
       "<matplotlib.figure.Figure at 0x10f6a4910>"
      ]
     },
     "metadata": {},
     "output_type": "display_data"
    }
   ],
   "source": [
    "f = np.loadtxt(\"faithful.dat.txt\")\n",
    "data = np.delete(f, 0, 1)\n",
    "plt.scatter(data[:,0], data[:,1])"
   ]
  },
  {
   "cell_type": "markdown",
   "metadata": {
    "collapsed": true
   },
   "source": [
    "## Expectaction Maximization(EM) Algorithms"
   ]
  },
  {
   "cell_type": "code",
   "execution_count": 230,
   "metadata": {
    "collapsed": false
   },
   "outputs": [],
   "source": [
    "class ExpectationMaximization:\n",
    "    def __init__(self, data, k=2):\n",
    "        # make initial guess about the parameters\n",
    "        self.max_iteration = 100\n",
    "        self.data = data\n",
    "        self.k = k\n",
    "        m, n = self.data.shape\n",
    "        self.mu = np.mat(np.zeros((k,n)))\n",
    "        self.pi = [1.0/k]*k\n",
    "        for i in range(n):\n",
    "            minE = min(data[:,i])\n",
    "            maxE = max(data[:,i])\n",
    "            self.mu[:,i] = minE + (maxE - minE) * np.random.rand(k,1)\n",
    "        self.mu = np.array(self.mu)\n",
    "        initial_cov = np.dot(data.T, data)\n",
    "        self.cov = np.array([initial_cov] * k)\n",
    "            \n",
    "    def iterate(self):\n",
    "        m, n = self.data.shape\n",
    "        yi = np.zeros((m,self.k))\n",
    "        cnt = 0\n",
    "        for _ in range(self.max_iteration):\n",
    "            cnt += 1\n",
    "            prev_yi = np.copy(yi)\n",
    "            # E-step\n",
    "            for i in range(m):\n",
    "                denominator = 0\n",
    "                for j in range(self.k):\n",
    "                    denominator += self.pi[j] * multivariate_normal.pdf(data[i,:], mean=self.mu[j,:], cov=self.cov[j])\n",
    "                for j in range(self.k):\n",
    "                    yi[i,j] = (self.pi[j] * multivariate_normal.pdf(data[i,:], mean=self.mu[j,:], cov=self.cov[j])) / denominator\n",
    "            # M-step\n",
    "            for j in range(self.k):\n",
    "                numerator = 0\n",
    "                denominator = 0\n",
    "                for i in range(m):\n",
    "                    numerator += (1-yi[i,j]) * data[i,:]\n",
    "                    denominator += 1-yi[i,j]\n",
    "                self.mu[j] = numerator / denominator\n",
    "                numerator = 0\n",
    "                denominator = 0\n",
    "                for i in range(m):\n",
    "                    numerator += (1-yi[i,j]) * (data[i,:]-self.mu[j])**2\n",
    "                    denominator += 1-yi[i,j]\n",
    "                self.cov[j] = numerator / denominator\n",
    "                self.pi[j] = (np.sum(yi[:,j])) / m\n",
    "            print self.mu\n",
    "        return cnt"
   ]
  },
  {
   "cell_type": "code",
   "execution_count": null,
   "metadata": {
    "collapsed": false
   },
   "outputs": [],
   "source": [
    "em = ExpectationMaximization(data)\n",
    "print em.iterate()"
   ]
  }
 ],
 "metadata": {
  "anaconda-cloud": {},
  "kernelspec": {
   "display_name": "Python [conda root]",
   "language": "python",
   "name": "conda-root-py"
  },
  "language_info": {
   "codemirror_mode": {
    "name": "ipython",
    "version": 2
   },
   "file_extension": ".py",
   "mimetype": "text/x-python",
   "name": "python",
   "nbconvert_exporter": "python",
   "pygments_lexer": "ipython2",
   "version": "2.7.12"
  }
 },
 "nbformat": 4,
 "nbformat_minor": 1
}
