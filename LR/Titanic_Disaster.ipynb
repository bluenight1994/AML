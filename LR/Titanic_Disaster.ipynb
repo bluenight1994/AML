{
 "cells": [
  {
   "cell_type": "code",
   "execution_count": 3,
   "metadata": {
    "collapsed": false
   },
   "outputs": [],
   "source": [
    "import pandas as pd\n",
    "import numpy as np\n",
    "import os"
   ]
  },
  {
   "cell_type": "code",
   "execution_count": 4,
   "metadata": {
    "collapsed": true
   },
   "outputs": [],
   "source": [
    "os.chdir(\"/Users/GanHong/Desktop/ML_HW1/Titanic Disaster\")"
   ]
  },
  {
   "cell_type": "code",
   "execution_count": 13,
   "metadata": {
    "collapsed": true
   },
   "outputs": [],
   "source": [
    "def fetchdata(filename):\n",
    "    df = pd.read_csv(filename)\n",
    "    \n",
    "    # Age col preprocessing, replace that missing value with mean of the age column\n",
    "    age_mean = df['Age'].mean(skipna = True)\n",
    "    age = np.array(df['Age'])\n",
    "    aget = []\n",
    "    for i in age:\n",
    "        if np.isnan(i): aget.append(age_mean)\n",
    "        else: aget.append(i)\n",
    "    aget = np.array(aget)\n",
    "    \n",
    "    # Sex col preprocessing, map string of sex value into value of (0,1)\n",
    "    sex = np.array(df['Sex'])\n",
    "    sext = []\n",
    "    for k in sex:\n",
    "        if k == \"male\": sext.append(1)\n",
    "        else: sext.append(0)\n",
    "    sext = np.array(sext)\n",
    "    \n",
    "    pclass = processMissing(df['Pclass'])\n",
    "    sibsp  = processMissing(df['SibSp'])\n",
    "    fare   = processMissing(df['Fare'])\n",
    "    parch  = processMissing(df['Parch'])\n",
    "    data   = np.r_[pclass[None,:],sibsp[None,:],parch[None,:],fare[None,:],sext[None,:],aget[None,:]]\n",
    "    data   = data.T\n",
    "    \n",
    "    return data\n",
    "\n",
    "def processMissing(df):\n",
    "    arr = np.array(df)\n",
    "    ret = []\n",
    "    for k in arr:\n",
    "        if np.isnan(k):\n",
    "            ret.append(0)\n",
    "        else:\n",
    "            ret.append(k)\n",
    "    return np.array(ret)\n",
    "\n",
    "def fetchlabel(filename):\n",
    "    df = pd.read_csv(filename)\n",
    "    label = np.array(df['Survived'])\n",
    "    return label"
   ]
  },
  {
   "cell_type": "code",
   "execution_count": 14,
   "metadata": {
    "collapsed": false
   },
   "outputs": [],
   "source": [
    "train = fetchdata(\"train.csv\")\n",
    "label = fetchlabel(\"train.csv\")"
   ]
  },
  {
   "cell_type": "code",
   "execution_count": 15,
   "metadata": {
    "collapsed": false
   },
   "outputs": [],
   "source": [
    "from sklearn import\\\n",
    "    linear_model, \\\n",
    "    cross_validation,\\\n",
    "    neighbors"
   ]
  },
  {
   "cell_type": "code",
   "execution_count": 16,
   "metadata": {
    "collapsed": false
   },
   "outputs": [],
   "source": [
    "# use sklearn logisticregresssion to train dataset\n",
    "logistic = linear_model.LogisticRegression()\n",
    "logistic.fit(train,label)\n",
    "test = fetchdata(\"test.csv\")\n",
    "x=logistic.predict(test)"
   ]
  },
  {
   "cell_type": "code",
   "execution_count": 17,
   "metadata": {
    "collapsed": false
   },
   "outputs": [],
   "source": [
    "np.savetxt(\"submission.csv\", x, delimiter=\",\", fmt=\"%d\")"
   ]
  },
  {
   "cell_type": "code",
   "execution_count": null,
   "metadata": {
    "collapsed": true
   },
   "outputs": [],
   "source": [
    "# the final accuracy is 75.6% according to Kaggle's evaluation"
   ]
  }
 ],
 "metadata": {
  "anaconda-cloud": {},
  "kernelspec": {
   "display_name": "Python [Root]",
   "language": "python",
   "name": "Python [Root]"
  },
  "language_info": {
   "codemirror_mode": {
    "name": "ipython",
    "version": 3
   },
   "file_extension": ".py",
   "mimetype": "text/x-python",
   "name": "python",
   "nbconvert_exporter": "python",
   "pygments_lexer": "ipython3",
   "version": "3.5.2"
  }
 },
 "nbformat": 4,
 "nbformat_minor": 0
}
